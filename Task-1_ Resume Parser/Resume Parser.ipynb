{
 "cells": [
  {
   "cell_type": "code",
   "execution_count": 18,
   "id": "964cce4d",
   "metadata": {},
   "outputs": [],
   "source": [
    "import nltk\n",
    "from nltk.tokenize import word_tokenize, sent_tokenize\n",
    "from nltk.corpus import stopwords"
   ]
  },
  {
   "cell_type": "code",
   "execution_count": 19,
   "id": "f5799dd9",
   "metadata": {},
   "outputs": [
    {
     "name": "stderr",
     "output_type": "stream",
     "text": [
      "[nltk_data] Downloading package punkt to\n",
      "[nltk_data]     C:\\Users\\harshini\\AppData\\Roaming\\nltk_data...\n",
      "[nltk_data]   Package punkt is already up-to-date!\n",
      "[nltk_data] Downloading package stopwords to\n",
      "[nltk_data]     C:\\Users\\harshini\\AppData\\Roaming\\nltk_data...\n",
      "[nltk_data]   Package stopwords is already up-to-date!\n"
     ]
    },
    {
     "data": {
      "text/plain": [
       "True"
      ]
     },
     "execution_count": 19,
     "metadata": {},
     "output_type": "execute_result"
    }
   ],
   "source": [
    "nltk.download('punkt')\n",
    "nltk.download('stopwords')"
   ]
  },
  {
   "cell_type": "code",
   "execution_count": 20,
   "id": "cf509dd5",
   "metadata": {},
   "outputs": [],
   "source": [
    "def extract_skills(resume_text):\n",
    "    stop_words = set(stopwords.words('english'))\n",
    "    word_tokens = word_tokenize(resume_text.lower())\n",
    "    filtered_tokens = [word for word in word_tokens if word.isalpha() and word not in stop_words]\n",
    "    skills = set(filtered_tokens)\n",
    "    return skills"
   ]
  },
  {
   "cell_type": "code",
   "execution_count": 21,
   "id": "07528589",
   "metadata": {},
   "outputs": [],
   "source": [
    "def extract_experience(resume_text):\n",
    "    sentences = sent_tokenize(resume_text.lower())\n",
    "    experience = []\n",
    "    for sentence in sentences:\n",
    "        if 'experience' in sentence or 'worked' in sentence or 'experience:' in sentence:\n",
    "            experience.append(sentence)\n",
    "    return experience"
   ]
  },
  {
   "cell_type": "code",
   "execution_count": 22,
   "id": "a8709cd6",
   "metadata": {},
   "outputs": [],
   "source": [
    "def is_best_resume_for_job(skills, experience, job_keywords):\n",
    "    # Implement your logic to determine if the resume is the best suitable for the job\n",
    "    # For example, you might check if the resume contains a certain number of job keywords\n",
    "    # and relevant experience.\n",
    "\n",
    "    # Replace this with your actual logic\n",
    "    num_matching_keywords = len(skills & job_keywords)\n",
    "    if num_matching_keywords >= 2 and len(experience) > 0:\n",
    "        return True\n",
    "    else:\n",
    "        return False"
   ]
  },
  {
   "cell_type": "code",
   "execution_count": 23,
   "id": "8df2f3fd",
   "metadata": {},
   "outputs": [],
   "source": [
    "# Sample Resumes\n",
    "resume1 = \"\"\"\n",
    "Name: John Doe\n",
    "Email: john.doe@email.com\n",
    "Phone: (123) 456-7890\n",
    "\n",
    "Objective:\n",
    "Highly motivated software engineer with experience in web development and strong proficiency in Python and Django.\n",
    "\n",
    "Skills:\n",
    "- Python\n",
    "- Django\n",
    "- JavaScript\n",
    "- HTML/CSS\n",
    "- SQL\n",
    "\n",
    "Experience:\n",
    "Software Engineer, XYZ Company\n",
    "- Developed and maintained web applications using Python and Django.\n",
    "- Implemented RESTful APIs for data retrieval and manipulation.\n",
    "- Collaborated with the team to design and implement new features.\n",
    "\n",
    "Education:\n",
    "Bachelor of Science in Computer Science, ABC University\n",
    "\"\"\"\n",
    "\n",
    "resume2 = \"\"\"\n",
    "Name: Jane Smith\n",
    "Email: jane.smith@email.com\n",
    "Phone: (987) 654-3210\n",
    "\n",
    "Objective:\n",
    "Results-driven data analyst with a strong background in data manipulation, analysis, and visualization.\n",
    "\n",
    "Skills:\n",
    "- Data analysis\n",
    "- Data visualization\n",
    "- Python\n",
    "- R\n",
    "- SQL\n",
    "\n",
    "Experience:\n",
    "Data Analyst, ABC Corporation\n",
    "- Extracted and analyzed data from various sources to provide insights for business decisions.\n",
    "- Created data visualizations using Python and R to communicate complex data patterns.\n",
    "- Conducted ad-hoc analysis and presented findings to stakeholders.\n",
    "\n",
    "Education:\n",
    "Master of Science in Data Science, XYZ University\n",
    "Bachelor of Science in Statistics, DEF University\n",
    "\"\"\"\n",
    "\n",
    "resume3 = \"\"\"\n",
    "Name: Michael Johnson\n",
    "Email: michael.johnson@email.com\n",
    "Phone: (555) 123-4567\n",
    "\n",
    "Objective:\n",
    "Experienced project manager with a track record of successfully leading cross-functional teams and delivering projects on time and within budget.\n",
    "\n",
    "Skills:\n",
    "- Project management\n",
    "- Team leadership\n",
    "- Agile methodology\n",
    "- Budgeting\n",
    "- Risk management\n",
    "\n",
    "Experience:\n",
    "Project Manager, XYZ Consulting\n",
    "- Led project teams and managed project timelines, resources, and budgets.\n",
    "- Implemented Agile practices to improve project efficiency and delivery.\n",
    "- Conducted risk assessments and developed mitigation plans.\n",
    "\n",
    "Education:\n",
    "Master of Business Administration, ABC University\n",
    "Bachelor of Science in Engineering, DEF University\n",
    "\"\"\""
   ]
  },
  {
   "cell_type": "code",
   "execution_count": 24,
   "id": "357f7d5b",
   "metadata": {},
   "outputs": [],
   "source": [
    "# Define job keywords for a software engineer position\n",
    "job_keywords = {'python', 'django', 'javascript', 'web development'}"
   ]
  },
  {
   "cell_type": "code",
   "execution_count": 25,
   "id": "f8fe8a07",
   "metadata": {},
   "outputs": [],
   "source": [
    "# Extract skills and experience from each resume\n",
    "skills1 = extract_skills(resume1)\n",
    "experience1 = extract_experience(resume1)\n",
    "\n",
    "skills2 = extract_skills(resume2)\n",
    "experience2 = extract_experience(resume2)\n",
    "\n",
    "skills3 = extract_skills(resume3)\n",
    "experience3 = extract_experience(resume3)"
   ]
  },
  {
   "cell_type": "code",
   "execution_count": 26,
   "id": "3b4a1065",
   "metadata": {},
   "outputs": [
    {
     "name": "stdout",
     "output_type": "stream",
     "text": [
      "The best suitable resume for the software engineer job is Resume 1.\n",
      "Resume 1:\n",
      "\n",
      "Name: John Doe\n",
      "Email: john.doe@email.com\n",
      "Phone: (123) 456-7890\n",
      "\n",
      "Objective:\n",
      "Highly motivated software engineer with experience in web development and strong proficiency in Python and Django.\n",
      "\n",
      "Skills:\n",
      "- Python\n",
      "- Django\n",
      "- JavaScript\n",
      "- HTML/CSS\n",
      "- SQL\n",
      "\n",
      "Experience:\n",
      "Software Engineer, XYZ Company\n",
      "- Developed and maintained web applications using Python and Django.\n",
      "- Implemented RESTful APIs for data retrieval and manipulation.\n",
      "- Collaborated with the team to design and implement new features.\n",
      "\n",
      "Education:\n",
      "Bachelor of Science in Computer Science, ABC University\n",
      "\n"
     ]
    }
   ],
   "source": [
    "# Determine which resume is the best suitable for the software engineer job\n",
    "best_resume = None\n",
    "best_resume_content = None\n",
    "for idx, (skills, experience) in enumerate([(skills1, experience1), (skills2, experience2), (skills3, experience3)]):\n",
    "    if is_best_resume_for_job(skills, experience, job_keywords):\n",
    "        best_resume = idx + 1  # Resume numbering starts from 1\n",
    "        best_resume_content = [resume1, resume2, resume3][idx]\n",
    "        break\n",
    "\n",
    "if best_resume is not None:\n",
    "    print(f\"The best suitable resume for the software engineer job is Resume {best_resume}.\")\n",
    "    print(f\"Resume {best_resume}:\")\n",
    "    print(best_resume_content)\n",
    "else:\n",
    "    print(\"No suitable resume found for the software engineer job.\")\n"
   ]
  },
  {
   "cell_type": "code",
   "execution_count": null,
   "id": "7d5e0703",
   "metadata": {},
   "outputs": [],
   "source": []
  }
 ],
 "metadata": {
  "kernelspec": {
   "display_name": "Python 3 (ipykernel)",
   "language": "python",
   "name": "python3"
  },
  "language_info": {
   "codemirror_mode": {
    "name": "ipython",
    "version": 3
   },
   "file_extension": ".py",
   "mimetype": "text/x-python",
   "name": "python",
   "nbconvert_exporter": "python",
   "pygments_lexer": "ipython3",
   "version": "3.11.3"
  }
 },
 "nbformat": 4,
 "nbformat_minor": 5
}
