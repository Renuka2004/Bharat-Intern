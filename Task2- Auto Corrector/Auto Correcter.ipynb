{
 "cells": [
  {
   "cell_type": "code",
   "execution_count": 10,
   "id": "bf519bf4",
   "metadata": {},
   "outputs": [],
   "source": [
    "import difflib\n"
   ]
  },
  {
   "cell_type": "code",
   "execution_count": 11,
   "id": "6a3a1850",
   "metadata": {},
   "outputs": [],
   "source": [
    "def load_dictionary(filename):\n",
    "    with open(filename, 'r') as file:\n",
    "        return set(word.strip().lower() for word in file)"
   ]
  },
  {
   "cell_type": "code",
   "execution_count": 12,
   "id": "82dcd197",
   "metadata": {},
   "outputs": [],
   "source": [
    "def auto_correct(word, dictionary):\n",
    "    word = word.lower()\n",
    "    if word in dictionary:\n",
    "        return word\n",
    "    closest_word = difflib.get_close_matches(word, dictionary, n=1, cutoff=0.4)\n",
    "    if closest_word:\n",
    "        return closest_word[0]\n",
    "    else:\n",
    "        return word\n"
   ]
  },
  {
   "cell_type": "code",
   "execution_count": 13,
   "id": "c808755d",
   "metadata": {},
   "outputs": [],
   "source": [
    "# Load a dictionary of words\n",
    "dictionary = load_dictionary('dictionary.txt')\n"
   ]
  },
  {
   "cell_type": "code",
   "execution_count": 16,
   "id": "8a01418d",
   "metadata": {},
   "outputs": [
    {
     "name": "stdout",
     "output_type": "stream",
     "text": [
      "Enter the word:helio\n"
     ]
    }
   ],
   "source": [
    "# Example usage\n",
    "input_sentence = input(\"Enter the word:\").split()\n",
    "corrected_sentence = [auto_correct(word, dictionary) for word in input_sentence]\n",
    "corrected_text = ' '.join(corrected_sentence)\n"
   ]
  },
  {
   "cell_type": "code",
   "execution_count": 17,
   "id": "06988cd3",
   "metadata": {},
   "outputs": [
    {
     "name": "stdout",
     "output_type": "stream",
     "text": [
      "Original sentence: helio\n",
      "Corrected sentence: help\n"
     ]
    }
   ],
   "source": [
    "print(f\"Original sentence: {' '.join(input_sentence)}\")\n",
    "print(f\"Corrected sentence: {corrected_text}\")"
   ]
  },
  {
   "cell_type": "code",
   "execution_count": null,
   "id": "18ed6592",
   "metadata": {},
   "outputs": [],
   "source": []
  }
 ],
 "metadata": {
  "kernelspec": {
   "display_name": "Python 3 (ipykernel)",
   "language": "python",
   "name": "python3"
  },
  "language_info": {
   "codemirror_mode": {
    "name": "ipython",
    "version": 3
   },
   "file_extension": ".py",
   "mimetype": "text/x-python",
   "name": "python",
   "nbconvert_exporter": "python",
   "pygments_lexer": "ipython3",
   "version": "3.11.3"
  }
 },
 "nbformat": 4,
 "nbformat_minor": 5
}
